{
  "nbformat": 4,
  "nbformat_minor": 0,
  "metadata": {
    "colab": {
      "provenance": [],
      "authorship_tag": "ABX9TyP8NQDmpCxED/q9P54+kOOV",
      "include_colab_link": true
    },
    "kernelspec": {
      "name": "python3",
      "display_name": "Python 3"
    },
    "language_info": {
      "name": "python"
    }
  },
  "cells": [
    {
      "cell_type": "markdown",
      "metadata": {
        "id": "view-in-github",
        "colab_type": "text"
      },
      "source": [
        "<a href=\"https://colab.research.google.com/github/yanakandrade/Repositorio/blob/main/Aula_2.ipynb\" target=\"_parent\"><img src=\"https://colab.research.google.com/assets/colab-badge.svg\" alt=\"Open In Colab\"/></a>"
      ]
    },
    {
      "cell_type": "code",
      "source": [
        "[1.73, 1.68, 1.71, 1.89]"
      ],
      "metadata": {
        "colab": {
          "base_uri": "https://localhost:8080/"
        },
        "id": "K0P6JHKPgrgv",
        "outputId": "ad737c6a-cda9-4461-b9ea-22bee9f6b126"
      },
      "execution_count": 1,
      "outputs": [
        {
          "output_type": "execute_result",
          "data": {
            "text/plain": [
              "[1.73, 1.68, 1.71, 1.89]"
            ]
          },
          "metadata": {},
          "execution_count": 1
        }
      ]
    },
    {
      "cell_type": "code",
      "source": [
        "fam = [1.73, 1.68, 1.71, 1.89]\n",
        "fam"
      ],
      "metadata": {
        "colab": {
          "base_uri": "https://localhost:8080/"
        },
        "id": "GqEcYsHEhJLC",
        "outputId": "def8501f-f0a0-47b3-a32d-c1b8315ee204"
      },
      "execution_count": 2,
      "outputs": [
        {
          "output_type": "execute_result",
          "data": {
            "text/plain": [
              "[1.73, 1.68, 1.71, 1.89]"
            ]
          },
          "metadata": {},
          "execution_count": 2
        }
      ]
    },
    {
      "cell_type": "code",
      "source": [
        "fam = [\"Liz\", 1.73, \"Emma\", 1.68, \"mom\", 1.71, \"dad\", 1.89]\n",
        "fam"
      ],
      "metadata": {
        "colab": {
          "base_uri": "https://localhost:8080/"
        },
        "id": "T6Yx4oU4hYG1",
        "outputId": "48026c8d-db15-460d-ffd9-0d94b9784db0"
      },
      "execution_count": 3,
      "outputs": [
        {
          "output_type": "execute_result",
          "data": {
            "text/plain": [
              "['Liz', 1.73, 'Emma', 1.68, 'mom', 1.71, 'dad', 1.89]"
            ]
          },
          "metadata": {},
          "execution_count": 3
        }
      ]
    },
    {
      "cell_type": "code",
      "source": [
        "fam2 = [[\"Liz\", 1.73],\n",
        "        [\"Emma\", 1.68],\n",
        "        [\"mom\", 1.71],\n",
        "        [\"dad\", 1.89]]\n",
        "fam2"
      ],
      "metadata": {
        "colab": {
          "base_uri": "https://localhost:8080/"
        },
        "id": "YdOps41fh1fP",
        "outputId": "03e892b9-153a-40b8-b7cd-35f06cd8d0da"
      },
      "execution_count": 5,
      "outputs": [
        {
          "output_type": "execute_result",
          "data": {
            "text/plain": [
              "[['Liz', 1.73], ['Emma', 1.68], ['mom', 1.71], ['dad', 1.89]]"
            ]
          },
          "metadata": {},
          "execution_count": 5
        }
      ]
    },
    {
      "cell_type": "code",
      "source": [
        "type(fam)"
      ],
      "metadata": {
        "colab": {
          "base_uri": "https://localhost:8080/"
        },
        "id": "jnrGKgMhiX6m",
        "outputId": "92186517-0b85-4d1d-f22b-4c7b39a06dcf"
      },
      "execution_count": 6,
      "outputs": [
        {
          "output_type": "execute_result",
          "data": {
            "text/plain": [
              "list"
            ]
          },
          "metadata": {},
          "execution_count": 6
        }
      ]
    },
    {
      "cell_type": "code",
      "source": [
        "type(fam2)"
      ],
      "metadata": {
        "colab": {
          "base_uri": "https://localhost:8080/"
        },
        "id": "R-yuqwVvianb",
        "outputId": "cd330572-0101-4ed8-d926-41ff0ba122d6"
      },
      "execution_count": 7,
      "outputs": [
        {
          "output_type": "execute_result",
          "data": {
            "text/plain": [
              "list"
            ]
          },
          "metadata": {},
          "execution_count": 7
        }
      ]
    },
    {
      "cell_type": "code",
      "execution_count": null,
      "metadata": {
        "id": "_riR2lHK8ug1"
      },
      "outputs": [],
      "source": [
        "alunos = ['Levi', 'Hugo', 'Gabi']"
      ]
    },
    {
      "cell_type": "code",
      "source": [
        "type(alunos)"
      ],
      "metadata": {
        "id": "UCTV8Rw09X7r",
        "colab": {
          "base_uri": "https://localhost:8080/"
        },
        "outputId": "44be3e89-078e-4335-8592-d4e8691d55f6"
      },
      "execution_count": null,
      "outputs": [
        {
          "output_type": "execute_result",
          "data": {
            "text/plain": [
              "list"
            ]
          },
          "metadata": {},
          "execution_count": 3
        }
      ]
    },
    {
      "cell_type": "code",
      "source": [
        "alunos.append('Cauan')"
      ],
      "metadata": {
        "id": "k02NSMa0i6j0"
      },
      "execution_count": null,
      "outputs": []
    },
    {
      "cell_type": "code",
      "source": [
        "alunos"
      ],
      "metadata": {
        "colab": {
          "base_uri": "https://localhost:8080/"
        },
        "id": "YT9XH_ydjBEb",
        "outputId": "8a11a505-8858-4384-a107-005801d5bc7d"
      },
      "execution_count": null,
      "outputs": [
        {
          "output_type": "execute_result",
          "data": {
            "text/plain": [
              "['Levi', 'Hugo', 'Gabi', 'Cauan']"
            ]
          },
          "metadata": {},
          "execution_count": 5
        }
      ]
    },
    {
      "cell_type": "code",
      "source": [
        "alunos_com_notas = [[\"Levi\",8], [\"Hugo\",9.5], [\"Gabi\",7.5], [\"Cauan\",6]]\n",
        "alunos_com_notas"
      ],
      "metadata": {
        "colab": {
          "base_uri": "https://localhost:8080/"
        },
        "id": "AbLp9KA_jETB",
        "outputId": "424c4556-87d7-4978-e385-3c65c25b60d8"
      },
      "execution_count": null,
      "outputs": [
        {
          "output_type": "execute_result",
          "data": {
            "text/plain": [
              "[['Levi', 8], ['Hugo', 9.5], ['Gabi', 7.5], ['Cauan', 6]]"
            ]
          },
          "metadata": {},
          "execution_count": 6
        }
      ]
    },
    {
      "cell_type": "code",
      "source": [
        "hall = 11.25\n",
        "kit = 18.0\n",
        "liv = 20.0\n",
        "bed = 10.75\n",
        "bath = 9.50\n",
        "\n",
        "areas = [\"hall\", 11.25, \"kit\", 18.0, \"liv\", 20.0, \"bed\", 10.75, \"bath\", 9.50]\n",
        "areas"
      ],
      "metadata": {
        "colab": {
          "base_uri": "https://localhost:8080/"
        },
        "id": "tuXano1uio4G",
        "outputId": "9cbf3cf2-7964-4174-b06d-77ed87df01c5"
      },
      "execution_count": 9,
      "outputs": [
        {
          "output_type": "execute_result",
          "data": {
            "text/plain": [
              "['hall', 11.25, 'kit', 18.0, 'liv', 20.0, 'bed', 10.75, 'bath', 9.5]"
            ]
          },
          "metadata": {},
          "execution_count": 9
        }
      ]
    }
  ]
}